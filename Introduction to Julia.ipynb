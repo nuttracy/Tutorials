{
 "cells": [
  {
   "cell_type": "markdown",
   "metadata": {},
   "source": [
    "# Add Packages"
   ]
  },
  {
   "cell_type": "code",
   "execution_count": 1,
   "metadata": {},
   "outputs": [
    {
     "name": "stdout",
     "output_type": "stream",
     "text": [
      "\u001b[32m\u001b[1m  Updating\u001b[22m\u001b[39m registry at `/home/jrun/.julia/registries/JuliaPro`\n",
      "\u001b[32m\u001b[1m  Updating\u001b[22m\u001b[39m git-repo `https://pkg.juliacomputing.com/registry/JuliaPro`\n",
      "\u001b[?25l\u001b[2K\u001b[?25h\u001b[32m\u001b[1m Resolving\u001b[22m\u001b[39m package versions...\n",
      "\u001b[32m\u001b[1m  Updating\u001b[22m\u001b[39m `~/.julia/Project.toml`\n",
      "\u001b[90m [no changes]\u001b[39m\n",
      "\u001b[32m\u001b[1m  Updating\u001b[22m\u001b[39m `~/.julia/Manifest.toml`\n",
      "\u001b[90m [no changes]\u001b[39m\n",
      "\u001b[32m\u001b[1m Resolving\u001b[22m\u001b[39m package versions...\n",
      "\u001b[32m\u001b[1m  Updating\u001b[22m\u001b[39m `~/.julia/Project.toml`\n",
      "\u001b[90m [no changes]\u001b[39m\n",
      "\u001b[32m\u001b[1m  Updating\u001b[22m\u001b[39m `~/.julia/Manifest.toml`\n",
      "\u001b[90m [no changes]\u001b[39m\n",
      "\u001b[32m\u001b[1m Resolving\u001b[22m\u001b[39m package versions...\n",
      "\u001b[32m\u001b[1m  Updating\u001b[22m\u001b[39m `~/.julia/Project.toml`\n",
      "\u001b[90m [no changes]\u001b[39m\n",
      "\u001b[32m\u001b[1m  Updating\u001b[22m\u001b[39m `~/.julia/Manifest.toml`\n",
      "\u001b[90m [no changes]\u001b[39m\n",
      "\u001b[32m\u001b[1m Resolving\u001b[22m\u001b[39m package versions...\n",
      "\u001b[32m\u001b[1m  Updating\u001b[22m\u001b[39m `~/.julia/Project.toml`\n",
      "\u001b[90m [no changes]\u001b[39m\n",
      "\u001b[32m\u001b[1m  Updating\u001b[22m\u001b[39m `~/.julia/Manifest.toml`\n",
      "\u001b[90m [no changes]\u001b[39m\n"
     ]
    }
   ],
   "source": [
    "import Pkg; \n",
    "Pkg.add(\"CSV\")\n",
    "Pkg.add(\"MLDataUtils\")\n",
    "Pkg.add(\"DecisionTree\")\n",
    "Pkg.add(\"MLBase\")"
   ]
  },
  {
   "cell_type": "markdown",
   "metadata": {},
   "source": [
    "# Use Breast-cancer data"
   ]
  },
  {
   "cell_type": "code",
   "execution_count": 2,
   "metadata": {},
   "outputs": [
    {
     "name": "stderr",
     "output_type": "stream",
     "text": [
      "  % Total    % Received % Xferd  Average Speed   Time    Time     Time  Current\n",
      "                                 Dload  Upload   Total   Spent    Left  Speed\n",
      "100  121k  100  121k    0     0   151k      0 --:--:-- --:--:-- --:--:--  152k\n"
     ]
    }
   ],
   "source": [
    "using DataFrames\n",
    "using CSV\n",
    "\n",
    "df1 = CSV.read(\n",
    "        download(\"https://archive.ics.uci.edu/ml/machine-learning-databases/breast-cancer-wisconsin/wdbc.data\"),\n",
    "        header = vcat([\"ID\", \"BM\"], collect(1:30)),\n",
    "        type = Dict(1 => Int64, 2=> String));\n"
   ]
  },
  {
   "cell_type": "markdown",
   "metadata": {},
   "source": [
    "# Play with the data"
   ]
  },
  {
   "cell_type": "code",
   "execution_count": 3,
   "metadata": {},
   "outputs": [
    {
     "data": {
      "text/html": [
       "<table class=\"data-frame\"><thead><tr><th></th><th>variable</th><th>mean</th><th>min</th><th>median</th><th>max</th><th>nunique</th><th>nmissing</th><th>eltype</th></tr><tr><th></th><th>Symbol</th><th>Union…</th><th>Any</th><th>Union…</th><th>Any</th><th>Union…</th><th>Int64</th><th>DataType</th></tr></thead><tbody><tr><th>1</th><td>ID</td><td>3.03718e7</td><td>8670</td><td>906024.0</td><td>911320502</td><td></td><td>0</td><td>Int64</td></tr><tr><th>2</th><td>BM</td><td></td><td>B</td><td></td><td>M</td><td>2</td><td>0</td><td>String</td></tr><tr><th>3</th><td>1</td><td>14.1273</td><td>6.981</td><td>13.37</td><td>28.11</td><td></td><td>0</td><td>Float64</td></tr><tr><th>4</th><td>2</td><td>19.2896</td><td>9.71</td><td>18.84</td><td>39.28</td><td></td><td>0</td><td>Float64</td></tr><tr><th>5</th><td>3</td><td>91.969</td><td>43.79</td><td>86.24</td><td>188.5</td><td></td><td>0</td><td>Float64</td></tr><tr><th>6</th><td>4</td><td>654.889</td><td>143.5</td><td>551.1</td><td>2501.0</td><td></td><td>0</td><td>Float64</td></tr><tr><th>7</th><td>5</td><td>0.0963603</td><td>0.05263</td><td>0.09587</td><td>0.1634</td><td></td><td>0</td><td>Float64</td></tr><tr><th>8</th><td>6</td><td>0.104341</td><td>0.01938</td><td>0.09263</td><td>0.3454</td><td></td><td>0</td><td>Float64</td></tr><tr><th>9</th><td>7</td><td>0.0887993</td><td>0.0</td><td>0.06154</td><td>0.4268</td><td></td><td>0</td><td>Float64</td></tr><tr><th>10</th><td>8</td><td>0.0489191</td><td>0.0</td><td>0.0335</td><td>0.2012</td><td></td><td>0</td><td>Float64</td></tr><tr><th>11</th><td>9</td><td>0.181162</td><td>0.106</td><td>0.1792</td><td>0.304</td><td></td><td>0</td><td>Float64</td></tr><tr><th>12</th><td>10</td><td>0.0627976</td><td>0.04996</td><td>0.06154</td><td>0.09744</td><td></td><td>0</td><td>Float64</td></tr><tr><th>13</th><td>11</td><td>0.405172</td><td>0.1115</td><td>0.3242</td><td>2.873</td><td></td><td>0</td><td>Float64</td></tr><tr><th>14</th><td>12</td><td>1.21685</td><td>0.3602</td><td>1.108</td><td>4.885</td><td></td><td>0</td><td>Float64</td></tr><tr><th>15</th><td>13</td><td>2.86606</td><td>0.757</td><td>2.287</td><td>21.98</td><td></td><td>0</td><td>Float64</td></tr><tr><th>16</th><td>14</td><td>40.3371</td><td>6.802</td><td>24.53</td><td>542.2</td><td></td><td>0</td><td>Float64</td></tr><tr><th>17</th><td>15</td><td>0.00704098</td><td>0.001713</td><td>0.00638</td><td>0.03113</td><td></td><td>0</td><td>Float64</td></tr><tr><th>18</th><td>16</td><td>0.0254781</td><td>0.002252</td><td>0.02045</td><td>0.1354</td><td></td><td>0</td><td>Float64</td></tr><tr><th>19</th><td>17</td><td>0.0318937</td><td>0.0</td><td>0.02589</td><td>0.396</td><td></td><td>0</td><td>Float64</td></tr><tr><th>20</th><td>18</td><td>0.0117961</td><td>0.0</td><td>0.01093</td><td>0.05279</td><td></td><td>0</td><td>Float64</td></tr><tr><th>21</th><td>19</td><td>0.0205423</td><td>0.007882</td><td>0.01873</td><td>0.07895</td><td></td><td>0</td><td>Float64</td></tr><tr><th>22</th><td>20</td><td>0.0037949</td><td>0.0008948</td><td>0.003187</td><td>0.02984</td><td></td><td>0</td><td>Float64</td></tr><tr><th>23</th><td>21</td><td>16.2692</td><td>7.93</td><td>14.97</td><td>36.04</td><td></td><td>0</td><td>Float64</td></tr><tr><th>24</th><td>22</td><td>25.6772</td><td>12.02</td><td>25.41</td><td>49.54</td><td></td><td>0</td><td>Float64</td></tr><tr><th>25</th><td>23</td><td>107.261</td><td>50.41</td><td>97.66</td><td>251.2</td><td></td><td>0</td><td>Float64</td></tr><tr><th>26</th><td>24</td><td>880.583</td><td>185.2</td><td>686.5</td><td>4254.0</td><td></td><td>0</td><td>Float64</td></tr><tr><th>27</th><td>25</td><td>0.132369</td><td>0.07117</td><td>0.1313</td><td>0.2226</td><td></td><td>0</td><td>Float64</td></tr><tr><th>28</th><td>26</td><td>0.254265</td><td>0.02729</td><td>0.2119</td><td>1.058</td><td></td><td>0</td><td>Float64</td></tr><tr><th>29</th><td>27</td><td>0.272188</td><td>0.0</td><td>0.2267</td><td>1.252</td><td></td><td>0</td><td>Float64</td></tr><tr><th>30</th><td>28</td><td>0.114606</td><td>0.0</td><td>0.09993</td><td>0.291</td><td></td><td>0</td><td>Float64</td></tr><tr><th>&vellip;</th><td>&vellip;</td><td>&vellip;</td><td>&vellip;</td><td>&vellip;</td><td>&vellip;</td><td>&vellip;</td><td>&vellip;</td><td>&vellip;</td></tr></tbody></table>"
      ],
      "text/plain": [
       "32×8 DataFrame. Omitted printing of 2 columns\n",
       "│ Row │ variable │ mean      │ min       │ median   │ max       │ nunique │\n",
       "│     │ \u001b[90mSymbol\u001b[39m   │ \u001b[90mUnion…\u001b[39m    │ \u001b[90mAny\u001b[39m       │ \u001b[90mUnion…\u001b[39m   │ \u001b[90mAny\u001b[39m       │ \u001b[90mUnion…\u001b[39m  │\n",
       "├─────┼──────────┼───────────┼───────────┼──────────┼───────────┼─────────┤\n",
       "│ 1   │ ID       │ 3.03718e7 │ 8670      │ 906024.0 │ 911320502 │         │\n",
       "│ 2   │ BM       │           │ B         │          │ M         │ 2       │\n",
       "│ 3   │ 1        │ 14.1273   │ 6.981     │ 13.37    │ 28.11     │         │\n",
       "│ 4   │ 2        │ 19.2896   │ 9.71      │ 18.84    │ 39.28     │         │\n",
       "│ 5   │ 3        │ 91.969    │ 43.79     │ 86.24    │ 188.5     │         │\n",
       "│ 6   │ 4        │ 654.889   │ 143.5     │ 551.1    │ 2501.0    │         │\n",
       "│ 7   │ 5        │ 0.0963603 │ 0.05263   │ 0.09587  │ 0.1634    │         │\n",
       "│ 8   │ 6        │ 0.104341  │ 0.01938   │ 0.09263  │ 0.3454    │         │\n",
       "│ 9   │ 7        │ 0.0887993 │ 0.0       │ 0.06154  │ 0.4268    │         │\n",
       "│ 10  │ 8        │ 0.0489191 │ 0.0       │ 0.0335   │ 0.2012    │         │\n",
       "⋮\n",
       "│ 22  │ 20       │ 0.0037949 │ 0.0008948 │ 0.003187 │ 0.02984   │         │\n",
       "│ 23  │ 21       │ 16.2692   │ 7.93      │ 14.97    │ 36.04     │         │\n",
       "│ 24  │ 22       │ 25.6772   │ 12.02     │ 25.41    │ 49.54     │         │\n",
       "│ 25  │ 23       │ 107.261   │ 50.41     │ 97.66    │ 251.2     │         │\n",
       "│ 26  │ 24       │ 880.583   │ 185.2     │ 686.5    │ 4254.0    │         │\n",
       "│ 27  │ 25       │ 0.132369  │ 0.07117   │ 0.1313   │ 0.2226    │         │\n",
       "│ 28  │ 26       │ 0.254265  │ 0.02729   │ 0.2119   │ 1.058     │         │\n",
       "│ 29  │ 27       │ 0.272188  │ 0.0       │ 0.2267   │ 1.252     │         │\n",
       "│ 30  │ 28       │ 0.114606  │ 0.0       │ 0.09993  │ 0.291     │         │\n",
       "│ 31  │ 29       │ 0.290076  │ 0.1565    │ 0.2822   │ 0.6638    │         │\n",
       "│ 32  │ 30       │ 0.0839458 │ 0.05504   │ 0.08004  │ 0.2075    │         │"
      ]
     },
     "execution_count": 3,
     "metadata": {},
     "output_type": "execute_result"
    }
   ],
   "source": [
    "describe(df1)"
   ]
  },
  {
   "cell_type": "code",
   "execution_count": 4,
   "metadata": {},
   "outputs": [
    {
     "data": {
      "text/plain": [
       "(569, 32)"
      ]
     },
     "execution_count": 4,
     "metadata": {},
     "output_type": "execute_result"
    }
   ],
   "source": [
    "size(df1)"
   ]
  },
  {
   "cell_type": "code",
   "execution_count": 5,
   "metadata": {},
   "outputs": [
    {
     "data": {
      "text/html": [
       "<table class=\"data-frame\"><thead><tr><th></th><th>ID</th><th>BM</th><th>1</th><th>2</th><th>3</th><th>4</th><th>5</th><th>6</th><th>7</th><th>8</th><th>9</th><th>10</th><th>11</th><th>12</th><th>13</th><th>14</th><th>15</th><th>16</th><th>17</th><th>18</th><th>19</th><th>20</th><th>21</th><th>22</th><th>23</th><th>24</th><th>25</th><th>26</th><th>27</th><th>28</th><th>29</th><th>30</th></tr><tr><th></th><th>Int64⍰</th><th>String⍰</th><th>Float64⍰</th><th>Float64⍰</th><th>Float64⍰</th><th>Float64⍰</th><th>Float64⍰</th><th>Float64⍰</th><th>Float64⍰</th><th>Float64⍰</th><th>Float64⍰</th><th>Float64⍰</th><th>Float64⍰</th><th>Float64⍰</th><th>Float64⍰</th><th>Float64⍰</th><th>Float64⍰</th><th>Float64⍰</th><th>Float64⍰</th><th>Float64⍰</th><th>Float64⍰</th><th>Float64⍰</th><th>Float64⍰</th><th>Float64⍰</th><th>Float64⍰</th><th>Float64⍰</th><th>Float64⍰</th><th>Float64⍰</th><th>Float64⍰</th><th>Float64⍰</th><th>Float64⍰</th><th>Float64⍰</th></tr></thead><tbody><tr><th>1</th><td>926125</td><td>M</td><td>20.92</td><td>25.09</td><td>143.0</td><td>1347.0</td><td>0.1099</td><td>0.2236</td><td>0.3174</td><td>0.1474</td><td>0.2149</td><td>0.06879</td><td>0.9622</td><td>1.026</td><td>8.758</td><td>118.8</td><td>0.006399</td><td>0.0431</td><td>0.07845</td><td>0.02624</td><td>0.02057</td><td>0.006213</td><td>24.29</td><td>29.41</td><td>179.1</td><td>1819.0</td><td>0.1407</td><td>0.4186</td><td>0.6599</td><td>0.2542</td><td>0.2929</td><td>0.09873</td></tr><tr><th>2</th><td>926424</td><td>M</td><td>21.56</td><td>22.39</td><td>142.0</td><td>1479.0</td><td>0.111</td><td>0.1159</td><td>0.2439</td><td>0.1389</td><td>0.1726</td><td>0.05623</td><td>1.176</td><td>1.256</td><td>7.673</td><td>158.7</td><td>0.0103</td><td>0.02891</td><td>0.05198</td><td>0.02454</td><td>0.01114</td><td>0.004239</td><td>25.45</td><td>26.4</td><td>166.1</td><td>2027.0</td><td>0.141</td><td>0.2113</td><td>0.4107</td><td>0.2216</td><td>0.206</td><td>0.07115</td></tr><tr><th>3</th><td>926682</td><td>M</td><td>20.13</td><td>28.25</td><td>131.2</td><td>1261.0</td><td>0.0978</td><td>0.1034</td><td>0.144</td><td>0.09791</td><td>0.1752</td><td>0.05533</td><td>0.7655</td><td>2.463</td><td>5.203</td><td>99.04</td><td>0.005769</td><td>0.02423</td><td>0.0395</td><td>0.01678</td><td>0.01898</td><td>0.002498</td><td>23.69</td><td>38.25</td><td>155.0</td><td>1731.0</td><td>0.1166</td><td>0.1922</td><td>0.3215</td><td>0.1628</td><td>0.2572</td><td>0.06637</td></tr><tr><th>4</th><td>926954</td><td>M</td><td>16.6</td><td>28.08</td><td>108.3</td><td>858.1</td><td>0.08455</td><td>0.1023</td><td>0.09251</td><td>0.05302</td><td>0.159</td><td>0.05648</td><td>0.4564</td><td>1.075</td><td>3.425</td><td>48.55</td><td>0.005903</td><td>0.03731</td><td>0.0473</td><td>0.01557</td><td>0.01318</td><td>0.003892</td><td>18.98</td><td>34.12</td><td>126.7</td><td>1124.0</td><td>0.1139</td><td>0.3094</td><td>0.3403</td><td>0.1418</td><td>0.2218</td><td>0.0782</td></tr><tr><th>5</th><td>927241</td><td>M</td><td>20.6</td><td>29.33</td><td>140.1</td><td>1265.0</td><td>0.1178</td><td>0.277</td><td>0.3514</td><td>0.152</td><td>0.2397</td><td>0.07016</td><td>0.726</td><td>1.595</td><td>5.772</td><td>86.22</td><td>0.006522</td><td>0.06158</td><td>0.07117</td><td>0.01664</td><td>0.02324</td><td>0.006185</td><td>25.74</td><td>39.42</td><td>184.6</td><td>1821.0</td><td>0.165</td><td>0.8681</td><td>0.9387</td><td>0.265</td><td>0.4087</td><td>0.124</td></tr><tr><th>6</th><td>92751</td><td>B</td><td>7.76</td><td>24.54</td><td>47.92</td><td>181.0</td><td>0.05263</td><td>0.04362</td><td>0.0</td><td>0.0</td><td>0.1587</td><td>0.05884</td><td>0.3857</td><td>1.428</td><td>2.548</td><td>19.15</td><td>0.007189</td><td>0.00466</td><td>0.0</td><td>0.0</td><td>0.02676</td><td>0.002783</td><td>9.456</td><td>30.37</td><td>59.16</td><td>268.6</td><td>0.08996</td><td>0.06444</td><td>0.0</td><td>0.0</td><td>0.2871</td><td>0.07039</td></tr></tbody></table>"
      ],
      "text/plain": [
       "6×32 DataFrame. Omitted printing of 26 columns\n",
       "│ Row │ ID     │ BM      │ 1        │ 2        │ 3        │ 4        │\n",
       "│     │ \u001b[90mInt64⍰\u001b[39m │ \u001b[90mString⍰\u001b[39m │ \u001b[90mFloat64⍰\u001b[39m │ \u001b[90mFloat64⍰\u001b[39m │ \u001b[90mFloat64⍰\u001b[39m │ \u001b[90mFloat64⍰\u001b[39m │\n",
       "├─────┼────────┼─────────┼──────────┼──────────┼──────────┼──────────┤\n",
       "│ 1   │ 926125 │ M       │ 20.92    │ 25.09    │ 143.0    │ 1347.0   │\n",
       "│ 2   │ 926424 │ M       │ 21.56    │ 22.39    │ 142.0    │ 1479.0   │\n",
       "│ 3   │ 926682 │ M       │ 20.13    │ 28.25    │ 131.2    │ 1261.0   │\n",
       "│ 4   │ 926954 │ M       │ 16.6     │ 28.08    │ 108.3    │ 858.1    │\n",
       "│ 5   │ 927241 │ M       │ 20.6     │ 29.33    │ 140.1    │ 1265.0   │\n",
       "│ 6   │ 92751  │ B       │ 7.76     │ 24.54    │ 47.92    │ 181.0    │"
      ]
     },
     "execution_count": 5,
     "metadata": {},
     "output_type": "execute_result"
    }
   ],
   "source": [
    "head(df1)\n",
    "tail(df1)"
   ]
  },
  {
   "cell_type": "code",
   "execution_count": 6,
   "metadata": {},
   "outputs": [
    {
     "data": {
      "text/html": [
       "<table class=\"data-frame\"><thead><tr><th></th><th>ID</th><th>BM</th><th>1</th><th>2</th><th>3</th><th>4</th><th>5</th><th>6</th><th>7</th><th>8</th><th>9</th><th>10</th><th>11</th><th>12</th><th>13</th><th>14</th><th>15</th><th>16</th><th>17</th><th>18</th><th>19</th><th>20</th><th>21</th><th>22</th><th>23</th><th>24</th><th>25</th><th>26</th><th>27</th><th>28</th><th>29</th><th>30</th></tr><tr><th></th><th>Int64⍰</th><th>String⍰</th><th>Float64⍰</th><th>Float64⍰</th><th>Float64⍰</th><th>Float64⍰</th><th>Float64⍰</th><th>Float64⍰</th><th>Float64⍰</th><th>Float64⍰</th><th>Float64⍰</th><th>Float64⍰</th><th>Float64⍰</th><th>Float64⍰</th><th>Float64⍰</th><th>Float64⍰</th><th>Float64⍰</th><th>Float64⍰</th><th>Float64⍰</th><th>Float64⍰</th><th>Float64⍰</th><th>Float64⍰</th><th>Float64⍰</th><th>Float64⍰</th><th>Float64⍰</th><th>Float64⍰</th><th>Float64⍰</th><th>Float64⍰</th><th>Float64⍰</th><th>Float64⍰</th><th>Float64⍰</th><th>Float64⍰</th></tr></thead><tbody><tr><th>1</th><td>842302</td><td>M</td><td>17.99</td><td>10.38</td><td>122.8</td><td>1001.0</td><td>0.1184</td><td>0.2776</td><td>0.3001</td><td>0.1471</td><td>0.2419</td><td>0.07871</td><td>1.095</td><td>0.9053</td><td>8.589</td><td>153.4</td><td>0.006399</td><td>0.04904</td><td>0.05373</td><td>0.01587</td><td>0.03003</td><td>0.006193</td><td>25.38</td><td>17.33</td><td>184.6</td><td>2019.0</td><td>0.1622</td><td>0.6656</td><td>0.7119</td><td>0.2654</td><td>0.4601</td><td>0.1189</td></tr><tr><th>2</th><td>842517</td><td>M</td><td>20.57</td><td>17.77</td><td>132.9</td><td>1326.0</td><td>0.08474</td><td>0.07864</td><td>0.0869</td><td>0.07017</td><td>0.1812</td><td>0.05667</td><td>0.5435</td><td>0.7339</td><td>3.398</td><td>74.08</td><td>0.005225</td><td>0.01308</td><td>0.0186</td><td>0.0134</td><td>0.01389</td><td>0.003532</td><td>24.99</td><td>23.41</td><td>158.8</td><td>1956.0</td><td>0.1238</td><td>0.1866</td><td>0.2416</td><td>0.186</td><td>0.275</td><td>0.08902</td></tr><tr><th>3</th><td>84300903</td><td>M</td><td>19.69</td><td>21.25</td><td>130.0</td><td>1203.0</td><td>0.1096</td><td>0.1599</td><td>0.1974</td><td>0.1279</td><td>0.2069</td><td>0.05999</td><td>0.7456</td><td>0.7869</td><td>4.585</td><td>94.03</td><td>0.00615</td><td>0.04006</td><td>0.03832</td><td>0.02058</td><td>0.0225</td><td>0.004571</td><td>23.57</td><td>25.53</td><td>152.5</td><td>1709.0</td><td>0.1444</td><td>0.4245</td><td>0.4504</td><td>0.243</td><td>0.3613</td><td>0.08758</td></tr></tbody></table>"
      ],
      "text/plain": [
       "3×32 DataFrame. Omitted printing of 26 columns\n",
       "│ Row │ ID       │ BM      │ 1        │ 2        │ 3        │ 4        │\n",
       "│     │ \u001b[90mInt64⍰\u001b[39m   │ \u001b[90mString⍰\u001b[39m │ \u001b[90mFloat64⍰\u001b[39m │ \u001b[90mFloat64⍰\u001b[39m │ \u001b[90mFloat64⍰\u001b[39m │ \u001b[90mFloat64⍰\u001b[39m │\n",
       "├─────┼──────────┼─────────┼──────────┼──────────┼──────────┼──────────┤\n",
       "│ 1   │ 842302   │ M       │ 17.99    │ 10.38    │ 122.8    │ 1001.0   │\n",
       "│ 2   │ 842517   │ M       │ 20.57    │ 17.77    │ 132.9    │ 1326.0   │\n",
       "│ 3   │ 84300903 │ M       │ 19.69    │ 21.25    │ 130.0    │ 1203.0   │"
      ]
     },
     "execution_count": 6,
     "metadata": {},
     "output_type": "execute_result"
    }
   ],
   "source": [
    "df1[1:3,:]"
   ]
  },
  {
   "cell_type": "code",
   "execution_count": 7,
   "metadata": {},
   "outputs": [
    {
     "data": {
      "text/html": [
       "<table class=\"data-frame\"><thead><tr><th></th><th>ID</th><th>BM</th><th>1</th><th>2</th><th>3</th><th>4</th><th>5</th><th>6</th><th>7</th><th>8</th><th>9</th><th>10</th><th>11</th><th>12</th><th>13</th><th>14</th><th>15</th><th>16</th><th>17</th><th>18</th><th>19</th><th>20</th><th>21</th><th>22</th><th>23</th><th>24</th><th>25</th><th>26</th><th>27</th><th>28</th><th>29</th><th>30</th></tr><tr><th></th><th>Int64⍰</th><th>String⍰</th><th>Float64⍰</th><th>Float64⍰</th><th>Float64⍰</th><th>Float64⍰</th><th>Float64⍰</th><th>Float64⍰</th><th>Float64⍰</th><th>Float64⍰</th><th>Float64⍰</th><th>Float64⍰</th><th>Float64⍰</th><th>Float64⍰</th><th>Float64⍰</th><th>Float64⍰</th><th>Float64⍰</th><th>Float64⍰</th><th>Float64⍰</th><th>Float64⍰</th><th>Float64⍰</th><th>Float64⍰</th><th>Float64⍰</th><th>Float64⍰</th><th>Float64⍰</th><th>Float64⍰</th><th>Float64⍰</th><th>Float64⍰</th><th>Float64⍰</th><th>Float64⍰</th><th>Float64⍰</th><th>Float64⍰</th></tr></thead><tbody><tr><th>1</th><td>842302</td><td>M</td><td>17.99</td><td>10.38</td><td>122.8</td><td>1001.0</td><td>0.1184</td><td>0.2776</td><td>0.3001</td><td>0.1471</td><td>0.2419</td><td>0.07871</td><td>1.095</td><td>0.9053</td><td>8.589</td><td>153.4</td><td>0.006399</td><td>0.04904</td><td>0.05373</td><td>0.01587</td><td>0.03003</td><td>0.006193</td><td>25.38</td><td>17.33</td><td>184.6</td><td>2019.0</td><td>0.1622</td><td>0.6656</td><td>0.7119</td><td>0.2654</td><td>0.4601</td><td>0.1189</td></tr><tr><th>2</th><td>842517</td><td>M</td><td>20.57</td><td>17.77</td><td>132.9</td><td>1326.0</td><td>0.08474</td><td>0.07864</td><td>0.0869</td><td>0.07017</td><td>0.1812</td><td>0.05667</td><td>0.5435</td><td>0.7339</td><td>3.398</td><td>74.08</td><td>0.005225</td><td>0.01308</td><td>0.0186</td><td>0.0134</td><td>0.01389</td><td>0.003532</td><td>24.99</td><td>23.41</td><td>158.8</td><td>1956.0</td><td>0.1238</td><td>0.1866</td><td>0.2416</td><td>0.186</td><td>0.275</td><td>0.08902</td></tr><tr><th>3</th><td>84300903</td><td>M</td><td>19.69</td><td>21.25</td><td>130.0</td><td>1203.0</td><td>0.1096</td><td>0.1599</td><td>0.1974</td><td>0.1279</td><td>0.2069</td><td>0.05999</td><td>0.7456</td><td>0.7869</td><td>4.585</td><td>94.03</td><td>0.00615</td><td>0.04006</td><td>0.03832</td><td>0.02058</td><td>0.0225</td><td>0.004571</td><td>23.57</td><td>25.53</td><td>152.5</td><td>1709.0</td><td>0.1444</td><td>0.4245</td><td>0.4504</td><td>0.243</td><td>0.3613</td><td>0.08758</td></tr><tr><th>4</th><td>84348301</td><td>M</td><td>11.42</td><td>20.38</td><td>77.58</td><td>386.1</td><td>0.1425</td><td>0.2839</td><td>0.2414</td><td>0.1052</td><td>0.2597</td><td>0.09744</td><td>0.4956</td><td>1.156</td><td>3.445</td><td>27.23</td><td>0.00911</td><td>0.07458</td><td>0.05661</td><td>0.01867</td><td>0.05963</td><td>0.009208</td><td>14.91</td><td>26.5</td><td>98.87</td><td>567.7</td><td>0.2098</td><td>0.8663</td><td>0.6869</td><td>0.2575</td><td>0.6638</td><td>0.173</td></tr><tr><th>5</th><td>84358402</td><td>M</td><td>20.29</td><td>14.34</td><td>135.1</td><td>1297.0</td><td>0.1003</td><td>0.1328</td><td>0.198</td><td>0.1043</td><td>0.1809</td><td>0.05883</td><td>0.7572</td><td>0.7813</td><td>5.438</td><td>94.44</td><td>0.01149</td><td>0.02461</td><td>0.05688</td><td>0.01885</td><td>0.01756</td><td>0.005115</td><td>22.54</td><td>16.67</td><td>152.2</td><td>1575.0</td><td>0.1374</td><td>0.205</td><td>0.4</td><td>0.1625</td><td>0.2364</td><td>0.07678</td></tr><tr><th>6</th><td>843786</td><td>M</td><td>12.45</td><td>15.7</td><td>82.57</td><td>477.1</td><td>0.1278</td><td>0.17</td><td>0.1578</td><td>0.08089</td><td>0.2087</td><td>0.07613</td><td>0.3345</td><td>0.8902</td><td>2.217</td><td>27.19</td><td>0.00751</td><td>0.03345</td><td>0.03672</td><td>0.01137</td><td>0.02165</td><td>0.005082</td><td>15.47</td><td>23.75</td><td>103.4</td><td>741.6</td><td>0.1791</td><td>0.5249</td><td>0.5355</td><td>0.1741</td><td>0.3985</td><td>0.1244</td></tr><tr><th>7</th><td>844359</td><td>M</td><td>18.25</td><td>19.98</td><td>119.6</td><td>1040.0</td><td>0.09463</td><td>0.109</td><td>0.1127</td><td>0.074</td><td>0.1794</td><td>0.05742</td><td>0.4467</td><td>0.7732</td><td>3.18</td><td>53.91</td><td>0.004314</td><td>0.01382</td><td>0.02254</td><td>0.01039</td><td>0.01369</td><td>0.002179</td><td>22.88</td><td>27.66</td><td>153.2</td><td>1606.0</td><td>0.1442</td><td>0.2576</td><td>0.3784</td><td>0.1932</td><td>0.3063</td><td>0.08368</td></tr><tr><th>8</th><td>84458202</td><td>M</td><td>13.71</td><td>20.83</td><td>90.2</td><td>577.9</td><td>0.1189</td><td>0.1645</td><td>0.09366</td><td>0.05985</td><td>0.2196</td><td>0.07451</td><td>0.5835</td><td>1.377</td><td>3.856</td><td>50.96</td><td>0.008805</td><td>0.03029</td><td>0.02488</td><td>0.01448</td><td>0.01486</td><td>0.005412</td><td>17.06</td><td>28.14</td><td>110.6</td><td>897.0</td><td>0.1654</td><td>0.3682</td><td>0.2678</td><td>0.1556</td><td>0.3196</td><td>0.1151</td></tr><tr><th>9</th><td>844981</td><td>M</td><td>13.0</td><td>21.82</td><td>87.5</td><td>519.8</td><td>0.1273</td><td>0.1932</td><td>0.1859</td><td>0.09353</td><td>0.235</td><td>0.07389</td><td>0.3063</td><td>1.002</td><td>2.406</td><td>24.32</td><td>0.005731</td><td>0.03502</td><td>0.03553</td><td>0.01226</td><td>0.02143</td><td>0.003749</td><td>15.49</td><td>30.73</td><td>106.2</td><td>739.3</td><td>0.1703</td><td>0.5401</td><td>0.539</td><td>0.206</td><td>0.4378</td><td>0.1072</td></tr><tr><th>10</th><td>84501001</td><td>M</td><td>12.46</td><td>24.04</td><td>83.97</td><td>475.9</td><td>0.1186</td><td>0.2396</td><td>0.2273</td><td>0.08543</td><td>0.203</td><td>0.08243</td><td>0.2976</td><td>1.599</td><td>2.039</td><td>23.94</td><td>0.007149</td><td>0.07217</td><td>0.07743</td><td>0.01432</td><td>0.01789</td><td>0.01008</td><td>15.09</td><td>40.68</td><td>97.65</td><td>711.4</td><td>0.1853</td><td>1.058</td><td>1.105</td><td>0.221</td><td>0.4366</td><td>0.2075</td></tr><tr><th>11</th><td>845636</td><td>M</td><td>16.02</td><td>23.24</td><td>102.7</td><td>797.8</td><td>0.08206</td><td>0.06669</td><td>0.03299</td><td>0.03323</td><td>0.1528</td><td>0.05697</td><td>0.3795</td><td>1.187</td><td>2.466</td><td>40.51</td><td>0.004029</td><td>0.009269</td><td>0.01101</td><td>0.007591</td><td>0.0146</td><td>0.003042</td><td>19.19</td><td>33.88</td><td>123.8</td><td>1150.0</td><td>0.1181</td><td>0.1551</td><td>0.1459</td><td>0.09975</td><td>0.2948</td><td>0.08452</td></tr><tr><th>12</th><td>84610002</td><td>M</td><td>15.78</td><td>17.89</td><td>103.6</td><td>781.0</td><td>0.0971</td><td>0.1292</td><td>0.09954</td><td>0.06606</td><td>0.1842</td><td>0.06082</td><td>0.5058</td><td>0.9849</td><td>3.564</td><td>54.16</td><td>0.005771</td><td>0.04061</td><td>0.02791</td><td>0.01282</td><td>0.02008</td><td>0.004144</td><td>20.42</td><td>27.28</td><td>136.5</td><td>1299.0</td><td>0.1396</td><td>0.5609</td><td>0.3965</td><td>0.181</td><td>0.3792</td><td>0.1048</td></tr><tr><th>13</th><td>846226</td><td>M</td><td>19.17</td><td>24.8</td><td>132.4</td><td>1123.0</td><td>0.0974</td><td>0.2458</td><td>0.2065</td><td>0.1118</td><td>0.2397</td><td>0.078</td><td>0.9555</td><td>3.568</td><td>11.07</td><td>116.2</td><td>0.003139</td><td>0.08297</td><td>0.0889</td><td>0.0409</td><td>0.04484</td><td>0.01284</td><td>20.96</td><td>29.94</td><td>151.7</td><td>1332.0</td><td>0.1037</td><td>0.3903</td><td>0.3639</td><td>0.1767</td><td>0.3176</td><td>0.1023</td></tr><tr><th>14</th><td>846381</td><td>M</td><td>15.85</td><td>23.95</td><td>103.7</td><td>782.7</td><td>0.08401</td><td>0.1002</td><td>0.09938</td><td>0.05364</td><td>0.1847</td><td>0.05338</td><td>0.4033</td><td>1.078</td><td>2.903</td><td>36.58</td><td>0.009769</td><td>0.03126</td><td>0.05051</td><td>0.01992</td><td>0.02981</td><td>0.003002</td><td>16.84</td><td>27.66</td><td>112.0</td><td>876.5</td><td>0.1131</td><td>0.1924</td><td>0.2322</td><td>0.1119</td><td>0.2809</td><td>0.06287</td></tr><tr><th>15</th><td>84667401</td><td>M</td><td>13.73</td><td>22.61</td><td>93.6</td><td>578.3</td><td>0.1131</td><td>0.2293</td><td>0.2128</td><td>0.08025</td><td>0.2069</td><td>0.07682</td><td>0.2121</td><td>1.169</td><td>2.061</td><td>19.21</td><td>0.006429</td><td>0.05936</td><td>0.05501</td><td>0.01628</td><td>0.01961</td><td>0.008093</td><td>15.03</td><td>32.01</td><td>108.8</td><td>697.7</td><td>0.1651</td><td>0.7725</td><td>0.6943</td><td>0.2208</td><td>0.3596</td><td>0.1431</td></tr><tr><th>16</th><td>84799002</td><td>M</td><td>14.54</td><td>27.54</td><td>96.73</td><td>658.8</td><td>0.1139</td><td>0.1595</td><td>0.1639</td><td>0.07364</td><td>0.2303</td><td>0.07077</td><td>0.37</td><td>1.033</td><td>2.879</td><td>32.55</td><td>0.005607</td><td>0.0424</td><td>0.04741</td><td>0.0109</td><td>0.01857</td><td>0.005466</td><td>17.46</td><td>37.13</td><td>124.1</td><td>943.2</td><td>0.1678</td><td>0.6577</td><td>0.7026</td><td>0.1712</td><td>0.4218</td><td>0.1341</td></tr><tr><th>17</th><td>848406</td><td>M</td><td>14.68</td><td>20.13</td><td>94.74</td><td>684.5</td><td>0.09867</td><td>0.072</td><td>0.07395</td><td>0.05259</td><td>0.1586</td><td>0.05922</td><td>0.4727</td><td>1.24</td><td>3.195</td><td>45.4</td><td>0.005718</td><td>0.01162</td><td>0.01998</td><td>0.01109</td><td>0.0141</td><td>0.002085</td><td>19.07</td><td>30.88</td><td>123.4</td><td>1138.0</td><td>0.1464</td><td>0.1871</td><td>0.2914</td><td>0.1609</td><td>0.3029</td><td>0.08216</td></tr><tr><th>18</th><td>84862001</td><td>M</td><td>16.13</td><td>20.68</td><td>108.1</td><td>798.8</td><td>0.117</td><td>0.2022</td><td>0.1722</td><td>0.1028</td><td>0.2164</td><td>0.07356</td><td>0.5692</td><td>1.073</td><td>3.854</td><td>54.18</td><td>0.007026</td><td>0.02501</td><td>0.03188</td><td>0.01297</td><td>0.01689</td><td>0.004142</td><td>20.96</td><td>31.48</td><td>136.8</td><td>1315.0</td><td>0.1789</td><td>0.4233</td><td>0.4784</td><td>0.2073</td><td>0.3706</td><td>0.1142</td></tr><tr><th>19</th><td>849014</td><td>M</td><td>19.81</td><td>22.15</td><td>130.0</td><td>1260.0</td><td>0.09831</td><td>0.1027</td><td>0.1479</td><td>0.09498</td><td>0.1582</td><td>0.05395</td><td>0.7582</td><td>1.017</td><td>5.865</td><td>112.4</td><td>0.006494</td><td>0.01893</td><td>0.03391</td><td>0.01521</td><td>0.01356</td><td>0.001997</td><td>27.32</td><td>30.88</td><td>186.8</td><td>2398.0</td><td>0.1512</td><td>0.315</td><td>0.5372</td><td>0.2388</td><td>0.2768</td><td>0.07615</td></tr><tr><th>20</th><td>8510426</td><td>B</td><td>13.54</td><td>14.36</td><td>87.46</td><td>566.3</td><td>0.09779</td><td>0.08129</td><td>0.06664</td><td>0.04781</td><td>0.1885</td><td>0.05766</td><td>0.2699</td><td>0.7886</td><td>2.058</td><td>23.56</td><td>0.008462</td><td>0.0146</td><td>0.02387</td><td>0.01315</td><td>0.0198</td><td>0.0023</td><td>15.11</td><td>19.26</td><td>99.7</td><td>711.2</td><td>0.144</td><td>0.1773</td><td>0.239</td><td>0.1288</td><td>0.2977</td><td>0.07259</td></tr><tr><th>21</th><td>8510653</td><td>B</td><td>13.08</td><td>15.71</td><td>85.63</td><td>520.0</td><td>0.1075</td><td>0.127</td><td>0.04568</td><td>0.0311</td><td>0.1967</td><td>0.06811</td><td>0.1852</td><td>0.7477</td><td>1.383</td><td>14.67</td><td>0.004097</td><td>0.01898</td><td>0.01698</td><td>0.00649</td><td>0.01678</td><td>0.002425</td><td>14.5</td><td>20.49</td><td>96.09</td><td>630.5</td><td>0.1312</td><td>0.2776</td><td>0.189</td><td>0.07283</td><td>0.3184</td><td>0.08183</td></tr><tr><th>22</th><td>8510824</td><td>B</td><td>9.504</td><td>12.44</td><td>60.34</td><td>273.9</td><td>0.1024</td><td>0.06492</td><td>0.02956</td><td>0.02076</td><td>0.1815</td><td>0.06905</td><td>0.2773</td><td>0.9768</td><td>1.909</td><td>15.7</td><td>0.009606</td><td>0.01432</td><td>0.01985</td><td>0.01421</td><td>0.02027</td><td>0.002968</td><td>10.23</td><td>15.66</td><td>65.13</td><td>314.9</td><td>0.1324</td><td>0.1148</td><td>0.08867</td><td>0.06227</td><td>0.245</td><td>0.07773</td></tr><tr><th>23</th><td>8511133</td><td>M</td><td>15.34</td><td>14.26</td><td>102.5</td><td>704.4</td><td>0.1073</td><td>0.2135</td><td>0.2077</td><td>0.09756</td><td>0.2521</td><td>0.07032</td><td>0.4388</td><td>0.7096</td><td>3.384</td><td>44.91</td><td>0.006789</td><td>0.05328</td><td>0.06446</td><td>0.02252</td><td>0.03672</td><td>0.004394</td><td>18.07</td><td>19.08</td><td>125.1</td><td>980.9</td><td>0.139</td><td>0.5954</td><td>0.6305</td><td>0.2393</td><td>0.4667</td><td>0.09946</td></tr><tr><th>24</th><td>851509</td><td>M</td><td>21.16</td><td>23.04</td><td>137.2</td><td>1404.0</td><td>0.09428</td><td>0.1022</td><td>0.1097</td><td>0.08632</td><td>0.1769</td><td>0.05278</td><td>0.6917</td><td>1.127</td><td>4.303</td><td>93.99</td><td>0.004728</td><td>0.01259</td><td>0.01715</td><td>0.01038</td><td>0.01083</td><td>0.001987</td><td>29.17</td><td>35.59</td><td>188.0</td><td>2615.0</td><td>0.1401</td><td>0.26</td><td>0.3155</td><td>0.2009</td><td>0.2822</td><td>0.07526</td></tr><tr><th>25</th><td>852552</td><td>M</td><td>16.65</td><td>21.38</td><td>110.0</td><td>904.6</td><td>0.1121</td><td>0.1457</td><td>0.1525</td><td>0.0917</td><td>0.1995</td><td>0.0633</td><td>0.8068</td><td>0.9017</td><td>5.455</td><td>102.6</td><td>0.006048</td><td>0.01882</td><td>0.02741</td><td>0.0113</td><td>0.01468</td><td>0.002801</td><td>26.46</td><td>31.56</td><td>177.0</td><td>2215.0</td><td>0.1805</td><td>0.3578</td><td>0.4695</td><td>0.2095</td><td>0.3613</td><td>0.09564</td></tr><tr><th>26</th><td>852631</td><td>M</td><td>17.14</td><td>16.4</td><td>116.0</td><td>912.7</td><td>0.1186</td><td>0.2276</td><td>0.2229</td><td>0.1401</td><td>0.304</td><td>0.07413</td><td>1.046</td><td>0.976</td><td>7.276</td><td>111.4</td><td>0.008029</td><td>0.03799</td><td>0.03732</td><td>0.02397</td><td>0.02308</td><td>0.007444</td><td>22.25</td><td>21.4</td><td>152.4</td><td>1461.0</td><td>0.1545</td><td>0.3949</td><td>0.3853</td><td>0.255</td><td>0.4066</td><td>0.1059</td></tr><tr><th>27</th><td>852763</td><td>M</td><td>14.58</td><td>21.53</td><td>97.41</td><td>644.8</td><td>0.1054</td><td>0.1868</td><td>0.1425</td><td>0.08783</td><td>0.2252</td><td>0.06924</td><td>0.2545</td><td>0.9832</td><td>2.11</td><td>21.05</td><td>0.004452</td><td>0.03055</td><td>0.02681</td><td>0.01352</td><td>0.01454</td><td>0.003711</td><td>17.62</td><td>33.21</td><td>122.4</td><td>896.9</td><td>0.1525</td><td>0.6643</td><td>0.5539</td><td>0.2701</td><td>0.4264</td><td>0.1275</td></tr><tr><th>28</th><td>852781</td><td>M</td><td>18.61</td><td>20.25</td><td>122.1</td><td>1094.0</td><td>0.0944</td><td>0.1066</td><td>0.149</td><td>0.07731</td><td>0.1697</td><td>0.05699</td><td>0.8529</td><td>1.849</td><td>5.632</td><td>93.54</td><td>0.01075</td><td>0.02722</td><td>0.05081</td><td>0.01911</td><td>0.02293</td><td>0.004217</td><td>21.31</td><td>27.26</td><td>139.9</td><td>1403.0</td><td>0.1338</td><td>0.2117</td><td>0.3446</td><td>0.149</td><td>0.2341</td><td>0.07421</td></tr><tr><th>29</th><td>852973</td><td>M</td><td>15.3</td><td>25.27</td><td>102.4</td><td>732.4</td><td>0.1082</td><td>0.1697</td><td>0.1683</td><td>0.08751</td><td>0.1926</td><td>0.0654</td><td>0.439</td><td>1.012</td><td>3.498</td><td>43.5</td><td>0.005233</td><td>0.03057</td><td>0.03576</td><td>0.01083</td><td>0.01768</td><td>0.002967</td><td>20.27</td><td>36.71</td><td>149.3</td><td>1269.0</td><td>0.1641</td><td>0.611</td><td>0.6335</td><td>0.2024</td><td>0.4027</td><td>0.09876</td></tr><tr><th>30</th><td>853201</td><td>M</td><td>17.57</td><td>15.05</td><td>115.0</td><td>955.1</td><td>0.09847</td><td>0.1157</td><td>0.09875</td><td>0.07953</td><td>0.1739</td><td>0.06149</td><td>0.6003</td><td>0.8225</td><td>4.655</td><td>61.1</td><td>0.005627</td><td>0.03033</td><td>0.03407</td><td>0.01354</td><td>0.01925</td><td>0.003742</td><td>20.01</td><td>19.52</td><td>134.9</td><td>1227.0</td><td>0.1255</td><td>0.2812</td><td>0.2489</td><td>0.1456</td><td>0.2756</td><td>0.07919</td></tr><tr><th>&vellip;</th><td>&vellip;</td><td>&vellip;</td><td>&vellip;</td><td>&vellip;</td><td>&vellip;</td><td>&vellip;</td><td>&vellip;</td><td>&vellip;</td><td>&vellip;</td><td>&vellip;</td><td>&vellip;</td><td>&vellip;</td><td>&vellip;</td><td>&vellip;</td><td>&vellip;</td><td>&vellip;</td><td>&vellip;</td><td>&vellip;</td><td>&vellip;</td><td>&vellip;</td><td>&vellip;</td><td>&vellip;</td><td>&vellip;</td><td>&vellip;</td><td>&vellip;</td><td>&vellip;</td><td>&vellip;</td><td>&vellip;</td><td>&vellip;</td><td>&vellip;</td><td>&vellip;</td><td>&vellip;</td></tr></tbody></table>"
      ],
      "text/plain": [
       "569×32 DataFrame. Omitted printing of 26 columns\n",
       "│ Row │ ID       │ BM      │ 1        │ 2        │ 3        │ 4        │\n",
       "│     │ \u001b[90mInt64⍰\u001b[39m   │ \u001b[90mString⍰\u001b[39m │ \u001b[90mFloat64⍰\u001b[39m │ \u001b[90mFloat64⍰\u001b[39m │ \u001b[90mFloat64⍰\u001b[39m │ \u001b[90mFloat64⍰\u001b[39m │\n",
       "├─────┼──────────┼─────────┼──────────┼──────────┼──────────┼──────────┤\n",
       "│ 1   │ 842302   │ M       │ 17.99    │ 10.38    │ 122.8    │ 1001.0   │\n",
       "│ 2   │ 842517   │ M       │ 20.57    │ 17.77    │ 132.9    │ 1326.0   │\n",
       "│ 3   │ 84300903 │ M       │ 19.69    │ 21.25    │ 130.0    │ 1203.0   │\n",
       "│ 4   │ 84348301 │ M       │ 11.42    │ 20.38    │ 77.58    │ 386.1    │\n",
       "│ 5   │ 84358402 │ M       │ 20.29    │ 14.34    │ 135.1    │ 1297.0   │\n",
       "│ 6   │ 843786   │ M       │ 12.45    │ 15.7     │ 82.57    │ 477.1    │\n",
       "│ 7   │ 844359   │ M       │ 18.25    │ 19.98    │ 119.6    │ 1040.0   │\n",
       "│ 8   │ 84458202 │ M       │ 13.71    │ 20.83    │ 90.2     │ 577.9    │\n",
       "│ 9   │ 844981   │ M       │ 13.0     │ 21.82    │ 87.5     │ 519.8    │\n",
       "│ 10  │ 84501001 │ M       │ 12.46    │ 24.04    │ 83.97    │ 475.9    │\n",
       "⋮\n",
       "│ 559 │ 925277   │ B       │ 14.59    │ 22.68    │ 96.39    │ 657.1    │\n",
       "│ 560 │ 925291   │ B       │ 11.51    │ 23.93    │ 74.52    │ 403.5    │\n",
       "│ 561 │ 925292   │ B       │ 14.05    │ 27.15    │ 91.38    │ 600.4    │\n",
       "│ 562 │ 925311   │ B       │ 11.2     │ 29.37    │ 70.67    │ 386.0    │\n",
       "│ 563 │ 925622   │ M       │ 15.22    │ 30.62    │ 103.4    │ 716.9    │\n",
       "│ 564 │ 926125   │ M       │ 20.92    │ 25.09    │ 143.0    │ 1347.0   │\n",
       "│ 565 │ 926424   │ M       │ 21.56    │ 22.39    │ 142.0    │ 1479.0   │\n",
       "│ 566 │ 926682   │ M       │ 20.13    │ 28.25    │ 131.2    │ 1261.0   │\n",
       "│ 567 │ 926954   │ M       │ 16.6     │ 28.08    │ 108.3    │ 858.1    │\n",
       "│ 568 │ 927241   │ M       │ 20.6     │ 29.33    │ 140.1    │ 1265.0   │\n",
       "│ 569 │ 92751    │ B       │ 7.76     │ 24.54    │ 47.92    │ 181.0    │"
      ]
     },
     "execution_count": 7,
     "metadata": {},
     "output_type": "execute_result"
    }
   ],
   "source": [
    "df1"
   ]
  },
  {
   "cell_type": "code",
   "execution_count": 8,
   "metadata": {},
   "outputs": [
    {
     "data": {
      "text/html": [
       "<table class=\"data-frame\"><thead><tr><th></th><th>ID</th><th>BM</th><th>col1</th><th>col2</th><th>col3</th><th>col4</th><th>col5</th><th>col6</th><th>col7</th><th>col8</th><th>col9</th><th>col10</th><th>col11</th><th>col12</th><th>col13</th><th>col14</th><th>col15</th><th>col16</th><th>col17</th><th>col18</th><th>col19</th><th>col20</th><th>col21</th><th>col22</th><th>col23</th><th>col24</th><th>col25</th><th>col26</th><th>col27</th><th>col28</th><th>col29</th><th>col30</th></tr><tr><th></th><th>Int64⍰</th><th>String⍰</th><th>Float64⍰</th><th>Float64⍰</th><th>Float64⍰</th><th>Float64⍰</th><th>Float64⍰</th><th>Float64⍰</th><th>Float64⍰</th><th>Float64⍰</th><th>Float64⍰</th><th>Float64⍰</th><th>Float64⍰</th><th>Float64⍰</th><th>Float64⍰</th><th>Float64⍰</th><th>Float64⍰</th><th>Float64⍰</th><th>Float64⍰</th><th>Float64⍰</th><th>Float64⍰</th><th>Float64⍰</th><th>Float64⍰</th><th>Float64⍰</th><th>Float64⍰</th><th>Float64⍰</th><th>Float64⍰</th><th>Float64⍰</th><th>Float64⍰</th><th>Float64⍰</th><th>Float64⍰</th><th>Float64⍰</th></tr></thead><tbody><tr><th>1</th><td>842302</td><td>M</td><td>17.99</td><td>10.38</td><td>122.8</td><td>1001.0</td><td>0.1184</td><td>0.2776</td><td>0.3001</td><td>0.1471</td><td>0.2419</td><td>0.07871</td><td>1.095</td><td>0.9053</td><td>8.589</td><td>153.4</td><td>0.006399</td><td>0.04904</td><td>0.05373</td><td>0.01587</td><td>0.03003</td><td>0.006193</td><td>25.38</td><td>17.33</td><td>184.6</td><td>2019.0</td><td>0.1622</td><td>0.6656</td><td>0.7119</td><td>0.2654</td><td>0.4601</td><td>0.1189</td></tr><tr><th>2</th><td>842517</td><td>M</td><td>20.57</td><td>17.77</td><td>132.9</td><td>1326.0</td><td>0.08474</td><td>0.07864</td><td>0.0869</td><td>0.07017</td><td>0.1812</td><td>0.05667</td><td>0.5435</td><td>0.7339</td><td>3.398</td><td>74.08</td><td>0.005225</td><td>0.01308</td><td>0.0186</td><td>0.0134</td><td>0.01389</td><td>0.003532</td><td>24.99</td><td>23.41</td><td>158.8</td><td>1956.0</td><td>0.1238</td><td>0.1866</td><td>0.2416</td><td>0.186</td><td>0.275</td><td>0.08902</td></tr><tr><th>3</th><td>84300903</td><td>M</td><td>19.69</td><td>21.25</td><td>130.0</td><td>1203.0</td><td>0.1096</td><td>0.1599</td><td>0.1974</td><td>0.1279</td><td>0.2069</td><td>0.05999</td><td>0.7456</td><td>0.7869</td><td>4.585</td><td>94.03</td><td>0.00615</td><td>0.04006</td><td>0.03832</td><td>0.02058</td><td>0.0225</td><td>0.004571</td><td>23.57</td><td>25.53</td><td>152.5</td><td>1709.0</td><td>0.1444</td><td>0.4245</td><td>0.4504</td><td>0.243</td><td>0.3613</td><td>0.08758</td></tr><tr><th>4</th><td>84348301</td><td>M</td><td>11.42</td><td>20.38</td><td>77.58</td><td>386.1</td><td>0.1425</td><td>0.2839</td><td>0.2414</td><td>0.1052</td><td>0.2597</td><td>0.09744</td><td>0.4956</td><td>1.156</td><td>3.445</td><td>27.23</td><td>0.00911</td><td>0.07458</td><td>0.05661</td><td>0.01867</td><td>0.05963</td><td>0.009208</td><td>14.91</td><td>26.5</td><td>98.87</td><td>567.7</td><td>0.2098</td><td>0.8663</td><td>0.6869</td><td>0.2575</td><td>0.6638</td><td>0.173</td></tr><tr><th>5</th><td>84358402</td><td>M</td><td>20.29</td><td>14.34</td><td>135.1</td><td>1297.0</td><td>0.1003</td><td>0.1328</td><td>0.198</td><td>0.1043</td><td>0.1809</td><td>0.05883</td><td>0.7572</td><td>0.7813</td><td>5.438</td><td>94.44</td><td>0.01149</td><td>0.02461</td><td>0.05688</td><td>0.01885</td><td>0.01756</td><td>0.005115</td><td>22.54</td><td>16.67</td><td>152.2</td><td>1575.0</td><td>0.1374</td><td>0.205</td><td>0.4</td><td>0.1625</td><td>0.2364</td><td>0.07678</td></tr><tr><th>6</th><td>843786</td><td>M</td><td>12.45</td><td>15.7</td><td>82.57</td><td>477.1</td><td>0.1278</td><td>0.17</td><td>0.1578</td><td>0.08089</td><td>0.2087</td><td>0.07613</td><td>0.3345</td><td>0.8902</td><td>2.217</td><td>27.19</td><td>0.00751</td><td>0.03345</td><td>0.03672</td><td>0.01137</td><td>0.02165</td><td>0.005082</td><td>15.47</td><td>23.75</td><td>103.4</td><td>741.6</td><td>0.1791</td><td>0.5249</td><td>0.5355</td><td>0.1741</td><td>0.3985</td><td>0.1244</td></tr></tbody></table>"
      ],
      "text/plain": [
       "6×32 DataFrame. Omitted printing of 26 columns\n",
       "│ Row │ ID       │ BM      │ col1     │ col2     │ col3     │ col4     │\n",
       "│     │ \u001b[90mInt64⍰\u001b[39m   │ \u001b[90mString⍰\u001b[39m │ \u001b[90mFloat64⍰\u001b[39m │ \u001b[90mFloat64⍰\u001b[39m │ \u001b[90mFloat64⍰\u001b[39m │ \u001b[90mFloat64⍰\u001b[39m │\n",
       "├─────┼──────────┼─────────┼──────────┼──────────┼──────────┼──────────┤\n",
       "│ 1   │ 842302   │ M       │ 17.99    │ 10.38    │ 122.8    │ 1001.0   │\n",
       "│ 2   │ 842517   │ M       │ 20.57    │ 17.77    │ 132.9    │ 1326.0   │\n",
       "│ 3   │ 84300903 │ M       │ 19.69    │ 21.25    │ 130.0    │ 1203.0   │\n",
       "│ 4   │ 84348301 │ M       │ 11.42    │ 20.38    │ 77.58    │ 386.1    │\n",
       "│ 5   │ 84358402 │ M       │ 20.29    │ 14.34    │ 135.1    │ 1297.0   │\n",
       "│ 6   │ 843786   │ M       │ 12.45    │ 15.7     │ 82.57    │ 477.1    │"
      ]
     },
     "execution_count": 8,
     "metadata": {},
     "output_type": "execute_result"
    }
   ],
   "source": [
    "rename!(df1, [Symbol(\"$i\")=>Symbol(\"col$i\") for i in 1:30])\n",
    "head(df1)"
   ]
  },
  {
   "cell_type": "code",
   "execution_count": 9,
   "metadata": {},
   "outputs": [
    {
     "data": {
      "text/plain": [
       "32-element Array{Symbol,1}:\n",
       " :ID   \n",
       " :BM   \n",
       " :col1 \n",
       " :col2 \n",
       " :col3 \n",
       " :col4 \n",
       " :col5 \n",
       " :col6 \n",
       " :col7 \n",
       " :col8 \n",
       " :col9 \n",
       " :col10\n",
       " :col11\n",
       " ⋮     \n",
       " :col19\n",
       " :col20\n",
       " :col21\n",
       " :col22\n",
       " :col23\n",
       " :col24\n",
       " :col25\n",
       " :col26\n",
       " :col27\n",
       " :col28\n",
       " :col29\n",
       " :col30"
      ]
     },
     "execution_count": 9,
     "metadata": {},
     "output_type": "execute_result"
    }
   ],
   "source": [
    "names(df1)"
   ]
  },
  {
   "cell_type": "code",
   "execution_count": 11,
   "metadata": {},
   "outputs": [],
   "source": [
    "x = convert(Array, df1[:,3:32])\n",
    "y = convert(Array, map(element -> element == \"B\" ? 1 : 2, df1[:BM]));"
   ]
  },
  {
   "cell_type": "markdown",
   "metadata": {},
   "source": [
    "# Split data into traning and test"
   ]
  },
  {
   "cell_type": "code",
   "execution_count": 12,
   "metadata": {},
   "outputs": [],
   "source": [
    "using MLDataUtils\n",
    "Xs, Ys = shuffleobs((transpose(x), y))\n",
    "(X_train1, y_train1), (X_test1, y_test1) = splitobs((Xs, Ys); at = 0.67)\n",
    "\n",
    "x_train = Array(transpose(X_train1))\n",
    "y_train = Array(y_train1)\n",
    "x_test = Array(transpose(X_test1))\n",
    "y_test = Array(y_test1);\n"
   ]
  },
  {
   "cell_type": "markdown",
   "metadata": {},
   "source": [
    "# Modeling"
   ]
  },
  {
   "cell_type": "code",
   "execution_count": 13,
   "metadata": {},
   "outputs": [
    {
     "name": "stdout",
     "output_type": "stream",
     "text": [
      "[1, 2]\n",
      "Ensemble of Decision Trees"
     ]
    },
    {
     "data": {
      "text/plain": [
       "RandomForestClassifier\n",
       "n_trees:             100\n",
       "n_subfeatures:       20\n",
       "partial_sampling:    0.7\n",
       "max_depth:           4\n",
       "min_samples_leaf:    1\n",
       "min_samples_split:   2\n",
       "min_purity_increase: 0.0\n",
       "classes:             ensemble:            "
      ]
     },
     "execution_count": 13,
     "metadata": {},
     "output_type": "execute_result"
    },
    {
     "name": "stdout",
     "output_type": "stream",
     "text": [
      "\n",
      "Trees:      100\n",
      "Avg Leaves: 8.34\n",
      "Avg Depth:  3.99"
     ]
    }
   ],
   "source": [
    "using DecisionTree\n",
    "model = RandomForestClassifier(n_subfeatures = 20, n_trees = 100, partial_sampling=0.7, max_depth = 4)\n",
    "\n",
    "DecisionTree.fit!(model, x_train, y_train)"
   ]
  },
  {
   "cell_type": "code",
   "execution_count": 14,
   "metadata": {},
   "outputs": [
    {
     "data": {
      "text/plain": [
       "0.047872340425531915"
      ]
     },
     "execution_count": 14,
     "metadata": {},
     "output_type": "execute_result"
    }
   ],
   "source": [
    "using MLBase\n",
    "r_f_pred = convert(Array{Int64, 1}, DecisionTree.predict(model, x_test))\n",
    "\n",
    "errorrate(y_test, r_f_pred)"
   ]
  },
  {
   "cell_type": "code",
   "execution_count": null,
   "metadata": {},
   "outputs": [],
   "source": []
  }
 ],
 "metadata": {
  "kernelspec": {
   "display_name": "Julia 1.0.0",
   "language": "julia",
   "name": "julia-1.0"
  },
  "language_info": {
   "file_extension": ".jl",
   "mimetype": "application/julia",
   "name": "julia",
   "version": "1.0.0"
  }
 },
 "nbformat": 4,
 "nbformat_minor": 2
}
